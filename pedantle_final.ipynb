{
 "cells": [
  {
   "cell_type": "markdown",
   "id": "c8515ca2",
   "metadata": {},
   "source": [
    "Парсинг"
   ]
  },
  {
   "cell_type": "code",
   "execution_count": null,
   "id": "41811ca9",
   "metadata": {},
   "outputs": [],
   "source": [
    "from SPARQLWrapper import SPARQLWrapper, JSON\n",
    "import requests\n",
    "from bs4 import BeautifulSoup\n",
    "import re"
   ]
  },
  {
   "cell_type": "code",
   "execution_count": null,
   "id": "619c1c00",
   "metadata": {},
   "outputs": [],
   "source": [
    "sparql = SPARQLWrapper(\"https://query.wikidata.org/sparql\")\n",
    "\n",
    "sparql.setQuery(\"\"\"\n",
    "SELECT ?item ?itemLabel ?ruArticle WHERE {\n",
    "  ?item wdt:P31 wd:Q6256.\n",
    "  OPTIONAL {\n",
    "    ?ruArticle schema:about ?item;\n",
    "               schema:isPartOf <https://ru.wikipedia.org/>.\n",
    "  }\n",
    "  SERVICE wikibase:label { bd:serviceParam wikibase:language \"ru\". }\n",
    "}\n",
    "\"\"\")\n",
    "\n",
    "sparql.setReturnFormat(JSON)\n",
    "results = sparql.query().convert()\n",
    "\n",
    "for result in results[\"results\"][\"bindings\"]:\n",
    "    print(result[\"itemLabel\"][\"value\"], \"→\", result.get(\"ruArticle\", {}).get(\"value\"))\n"
   ]
  },
  {
   "cell_type": "code",
   "execution_count": null,
   "id": "06c749fe",
   "metadata": {},
   "outputs": [],
   "source": [
    "def clean_text(text):\n",
    "    # Убирает лишние пробелы и переносы строк\n",
    "    return ' '.join(text.split())\n"
   ]
  },
  {
   "cell_type": "code",
   "execution_count": null,
   "id": "5a039d67",
   "metadata": {},
   "outputs": [],
   "source": [
    "def is_inside_infobox(tag):\n",
    "    # Проверяем, есть ли в цепочке родителей таблица с классом infobox\n",
    "    for parent in tag.parents:\n",
    "        if parent.name == \"table\" and \"infobox\" in parent.get(\"class\", []):\n",
    "            return True\n",
    "    return False\n",
    "\n",
    "def get_intro(url):\n",
    "    try:\n",
    "        response = requests.get(url)\n",
    "        response.encoding = 'utf-8'\n",
    "        soup = BeautifulSoup(response.text, 'html.parser')\n",
    "\n",
    "        content_div = soup.find('div', id='mw-content-text')\n",
    "        if not content_div:\n",
    "            return \"Ошибка: не найден блок с содержимым статьи.\"\n",
    "\n",
    "        intro_paragraphs = []\n",
    "        for elem in content_div.find_all(recursive=True):\n",
    "            if elem.name == 'h2':\n",
    "                break\n",
    "            if elem.name == 'p':\n",
    "                if is_inside_infobox(elem):\n",
    "                    continue  # пропускаем абзацы из боковой таблицы\n",
    "                text = elem.get_text(\" \", strip=True)\n",
    "                if text:\n",
    "                    intro_paragraphs.append(text)\n",
    "\n",
    "        raw_text = '\\n\\n'.join(intro_paragraphs)\n",
    "        return clean_text(raw_text) if raw_text else \"Введение не найдено.\"\n",
    "    except Exception as e:\n",
    "        return f\"Ошибка: {e}\"\n"
   ]
  },
  {
   "cell_type": "code",
   "execution_count": null,
   "id": "f906db91",
   "metadata": {},
   "outputs": [],
   "source": [
    "for result in results[\"results\"][\"bindings\"]:\n",
    "    label = result[\"itemLabel\"][\"value\"]\n",
    "    article_url = result.get(\"ruArticle\", {}).get(\"value\")\n",
    "    if article_url:\n",
    "        intro = get_intro(article_url)\n",
    "        print(f\"{label}\")\n",
    "        print(article_url)\n",
    "        print(intro)\n",
    "        print()  # пустая строка для читаемости"
   ]
  },
  {
   "cell_type": "code",
   "execution_count": null,
   "id": "aaa2cea5",
   "metadata": {},
   "outputs": [],
   "source": [
    "def clean_text(text):\n",
    "    # Удаляем невидимые символы\n",
    "    text = re.sub(r'[\\u200e\\u200f\\u202a\\u202b\\u202c\\u2066\\u2067\\u2068\\u2069]', '', text)\n",
    "\n",
    "    # Удаляем сноски вида [1], [23]\n",
    "    text = re.sub(r'\\[\\d+\\]', '', text)\n",
    "\n",
    "    # Удаляем транскрипции в скобках [æl baħˈreːn], [æl baħˈreːn] и пр.\n",
    "    text = re.sub(r'\\[[^\\[\\]]*?\\ˈ?[^\\[\\]]*?\\]', '', text)\n",
    "\n",
    "    # Убираем \"прослушать о файле\"\n",
    "    text = re.sub(r'прослушать о файле', '', text, flags=re.IGNORECASE)\n",
    "\n",
    "    text = re.sub(r'о файле', '', text, flags=re.IGNORECASE)\n",
    "    \n",
    "    # Убираем сноски\n",
    "    text = re.sub(r'\\[\\d+(,\\s*\\d+)*\\]', '', text)\n",
    "    \n",
    "    # Убираем символы типа \"▲ 0,467\"\n",
    "    text = re.sub(r'▲\\s*\\d+,\\d+', '', text)\n",
    "    \n",
    "    #дополнительно убрать лишние пробелы\n",
    "    text = re.sub(r'\\s{2,}', ' ', text).strip()\n",
    "\n",
    "    # Убираем пробелы перед знаками препинания\n",
    "    text = re.sub(r'\\s+([,.\\-:;!?])', r'\\1', text)\n",
    "\n",
    "    # Убираем запятую перед закрывающей скобкой\n",
    "    text = re.sub(r',\\s*([\\)\\]\\}])', r'\\1', text)\n",
    "\n",
    "    # Убираем пробелы после открывающих скобок\n",
    "    text = re.sub(r'([\\(\\[\\{])\\s+', r'\\1', text)\n",
    "\n",
    "    # Убираем пробелы перед закрывающими скобками\n",
    "    text = re.sub(r'\\s+([\\)\\]\\}])', r'\\1', text)\n",
    "\n",
    "    # Убираем пробелы внутри кавычек « ... »\n",
    "    text = re.sub(r'«\\s*([^»]*?)\\s*»', r'«\\1»', text)\n",
    "\n",
    "    # Финальная очистка лишних пробелов\n",
    "    text = re.sub(r'\\s+', ' ', text)\n",
    "\n",
    "    return text.strip()\n",
    "\n",
    "\n",
    "\n",
    "for result in results[\"results\"][\"bindings\"]:\n",
    "    label = result[\"itemLabel\"][\"value\"]\n",
    "    article_url = result.get(\"ruArticle\", {}).get(\"value\")\n",
    "    if article_url:\n",
    "        intro = get_intro(article_url)\n",
    "        intro_clean = clean_text(intro)\n",
    "        print(f\"{label}\")\n",
    "        print(article_url)\n",
    "        print(intro_clean)\n",
    "        print()  # пустая строка для читаемости между статьями\n"
   ]
  },
  {
   "cell_type": "code",
   "execution_count": null,
   "id": "410ee4b3",
   "metadata": {},
   "outputs": [],
   "source": [
    "with open('results.txt', 'w', encoding='utf-8') as f:\n",
    "    for result in results[\"results\"][\"bindings\"]:\n",
    "        label = result[\"itemLabel\"][\"value\"]\n",
    "        article_url = result.get(\"ruArticle\", {}).get(\"value\")\n",
    "        if article_url:\n",
    "            intro = get_intro(article_url)\n",
    "            intro_clean = clean_text(intro)\n",
    "            f.write(f\"{label}\\n\")\n",
    "            f.write(f\"{article_url}\\n\")\n",
    "            f.write(f\"{intro_clean}\\n\\n\")  # пустая строка"
   ]
  },
  {
   "cell_type": "markdown",
   "id": "835f12c0",
   "metadata": {},
   "source": [
    "У нас получился файл txt. Теперь мы его почистим"
   ]
  },
  {
   "cell_type": "code",
   "execution_count": null,
   "id": "58ad3f57",
   "metadata": {},
   "outputs": [],
   "source": [
    "# Чтение файла\n",
    "with open('results.txt', 'r', encoding='utf-8') as f:\n",
    "    content = f.read()\n",
    "\n",
    "print(content)"
   ]
  },
  {
   "cell_type": "code",
   "execution_count": null,
   "id": "74ae432a",
   "metadata": {},
   "outputs": [],
   "source": [
    "import unicodedata\n",
    "\n",
    "def remove_accents(text):\n",
    "    # Сначала заменяем \"й\" на временный маркер\n",
    "    marker = '__Y_MARKER__'\n",
    "    text = text.replace('й', marker).replace('Й', marker.upper())\n",
    "\n",
    "    # Нормализуем текст в форму NFD\n",
    "    normalized = unicodedata.normalize('NFD', text)\n",
    "\n",
    "    # Удаляем все диакритики (категория \"Mn\"), кроме тех, что относятся к маркеру\n",
    "    no_accents = ''.join(ch for ch in normalized if unicodedata.category(ch) != 'Mn')\n",
    "\n",
    "    # Восстанавливаем букву \"й\"\n",
    "    no_accents = no_accents.replace(marker, 'й').replace(marker.upper(), 'Й')\n",
    "\n",
    "    return no_accents\n",
    "\n",
    "\n",
    "cleaned_content = remove_accents(content)\n",
    "print(cleaned_content)\n"
   ]
  },
  {
   "cell_type": "code",
   "execution_count": null,
   "id": "e4319cbc",
   "metadata": {},
   "outputs": [],
   "source": [
    "def remove_empty_parentheses(text):\n",
    "    # Удаляем пустые круглые скобки (с пробелами внутри)\n",
    "    text = re.sub(r'\\(\\s*\\)', '', text)\n",
    "    # Удаляем символ \"➤\"\n",
    "    text = text.replace('➤', '')\n",
    "    text = re.sub(r'МФА:;?', '', text)\n",
    "    # Убираем пробел перед точкой\n",
    "    text = re.sub(r'\\s+\\.', '.', text)\n",
    "     # Убираем запятую с пробелом перед закрывающей скобкой\n",
    "    text = re.sub(r',\\s+\\)', ')', text)\n",
    "    # Убираем запятую, пробел и точку с запятой подряд\n",
    "    text = re.sub(r',\\s*;', '', text)\n",
    "    # Убираем пробелы перед закрывающей круглой скобкой\n",
    "    text = re.sub(r'\\s+\\)', ')', text)\n",
    "    return text\n",
    "\n",
    "clean_text = remove_empty_parentheses(cleaned_content)\n",
    "print(clean_text)\n"
   ]
  },
  {
   "cell_type": "code",
   "execution_count": null,
   "id": "9d5e431a",
   "metadata": {},
   "outputs": [],
   "source": [
    "with open('wiki_corpus.txt', 'w', encoding='utf-8') as f:\n",
    "    f.write(clean_text)"
   ]
  },
  {
   "cell_type": "markdown",
   "id": "09468b41",
   "metadata": {},
   "source": [
    "Лемматизация и создание json проходили в колабе, чтобы была возможность использовать mystem\n",
    "https://colab.research.google.com/drive/1Po2-Hw4GsuzpzePs0SpwaJyCe0inFcb-?usp=sharing"
   ]
  },
  {
   "cell_type": "code",
   "execution_count": null,
   "id": "8346d986",
   "metadata": {},
   "outputs": [],
   "source": []
  }
 ],
 "metadata": {
  "language_info": {
   "name": "python"
  }
 },
 "nbformat": 4,
 "nbformat_minor": 5
}
